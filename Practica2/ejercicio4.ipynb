{
 "cells": [
  {
   "cell_type": "markdown",
   "metadata": {},
   "source": [
    "### Copio y pego el codigo dado por el ejercicio"
   ]
  },
  {
   "cell_type": "code",
   "execution_count": null,
   "metadata": {},
   "outputs": [],
   "source": [
    "word = input(\"Ingresá una palabra: \")\n",
    "if \"a\" in word:\n",
    "    print(\"Hay al menos una letra a.\")\n",
    "else:\n",
    "    print(\"No hay letras a. \")"
   ]
  },
  {
   "cell_type": "markdown",
   "metadata": {},
   "source": [
    "### Modifico el codigo para que tambien verifique si tambien contiene la letra n"
   ]
  },
  {
   "cell_type": "code",
   "execution_count": null,
   "metadata": {},
   "outputs": [],
   "source": [
    "if \"a\" and \"n\" in word:\n",
    "    print(\"Hay al menos una letra a y una letra n\")\n",
    "elif \"a\" in word:\n",
    "    print(\"Hay al menos una letra a pero no hay letras n\")\n",
    "else:\n",
    "    if \"n\" in word:\n",
    "        print(\"Hay al menos una letra n pero no hay letras a\")\n",
    "    print(\"no hay letra a y tampoco hay letras n\")"
   ]
  }
 ],
 "metadata": {
  "kernelspec": {
   "display_name": "venv",
   "language": "python",
   "name": "python3"
  },
  "language_info": {
   "codemirror_mode": {
    "name": "ipython",
    "version": 3
   },
   "file_extension": ".py",
   "mimetype": "text/x-python",
   "name": "python",
   "nbconvert_exporter": "python",
   "pygments_lexer": "ipython3",
   "version": "3.11.7"
  }
 },
 "nbformat": 4,
 "nbformat_minor": 2
}

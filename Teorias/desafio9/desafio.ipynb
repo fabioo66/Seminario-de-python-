{
 "cells": [
  {
   "cell_type": "markdown",
   "metadata": {},
   "source": [
    "#### Generamos la estructura en la que se encuentra nuestra musica"
   ]
  },
  {
   "cell_type": "code",
   "execution_count": 1,
   "metadata": {},
   "outputs": [],
   "source": [
    "data = [\n",
    "    {\"nombre\": \"Duki\", \"es_solista\": False, \"ciudad\": \"Buenos Aires\", \"pais\": \"Argentina\", \"ref\": \"https://open.spotify.com/artist/1bAftSH8umNcGZ0uyV7LMg?si=166caaa100af4e4c\"},\n",
    "    {\"nombre\": \"Kanye West\", \"es_solista\": True, \"ciudad\": \"Georgia\", \"pais\": \"Estados Unidos\", \"ref\": \"https://open.spotify.com/artist/5K4W6rqBFWDnAN6FQUkS6x?si=4gL5E96QQXWsl8oJhj_eiQ\"},\n",
    "    {\"nombre\": \"Lil Baby\", \"es_solista\": True, \"ciudad\": \"Georgia\", \"pais\": \"Estados Unidos\", \"ref\": \"https://open.spotify.com/artist/5f7VJjfbwm532GiveGC0ZK?si=-06vFbZLTgGpqeFwYshCzw\"},\n",
    "    {\"nombre\": \"Drake\", \"es_solista\": True, \"ciudad\": \"Toronto\", \"pais\": \"Canada\", \"ref\": \"https://open.spotify.com/artist/3TVXtAsR1Inumwj472S9r4?si=0kbYlc-KSs6PTVZPLMS78w\"}\n",
    "    ]"
   ]
  },
  {
   "cell_type": "markdown",
   "metadata": {},
   "source": [
    "#### Creo un archivo json con mi musica"
   ]
  },
  {
   "cell_type": "code",
   "execution_count": null,
   "metadata": {},
   "outputs": [],
   "source": [
    "from pathlib import Path\n",
    "import json\n",
    "\n",
    "file_route = Path('fabio_music') / \"musica.json\"\n",
    "with open(file_route, \"w\") as music_file:\n",
    "    json.dump(data, music_file)\n",
    "    pretty_data = json.dumps(data, indent=4)\n"
   ]
  },
  {
   "cell_type": "markdown",
   "metadata": {},
   "source": [
    "#### Creo un archivo csv con mi música"
   ]
  },
  {
   "cell_type": "code",
   "execution_count": 3,
   "metadata": {},
   "outputs": [],
   "source": [
    "import csv\n",
    "\n",
    "file_route_csv = Path('fabio_music') / \"musica.csv\"\n",
    "with open(file_route_csv, \"w\") as file_csv:\n",
    "    file_json = open(file_route)\n",
    "    music = json.load(file_json)\n",
    "\n",
    "    writer = csv.writer(file_csv)\n",
    "    writer.writerow([\"nombre\", \"es_solista\", \"ciudad\", \"pais\", \"referencia\"])\n",
    "    for elem in music:\n",
    "        writer.writerow( [elem[\"nombre\"], elem[\"es_solista\"], elem[\"ciudad\"], elem[\"pais\"], elem[\"ref\"] ])\n",
    "    \n",
    "    file_json.close()\n"
   ]
  }
 ],
 "metadata": {
  "kernelspec": {
   "display_name": "Python 3",
   "language": "python",
   "name": "python3"
  },
  "language_info": {
   "codemirror_mode": {
    "name": "ipython",
    "version": 3
   },
   "file_extension": ".py",
   "mimetype": "text/x-python",
   "name": "python",
   "nbconvert_exporter": "python",
   "pygments_lexer": "ipython3",
   "version": "3.11.7"
  }
 },
 "nbformat": 4,
 "nbformat_minor": 2
}

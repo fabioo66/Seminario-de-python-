{
 "cells": [
  {
   "cell_type": "markdown",
   "metadata": {},
   "source": [
    "### Le pido al usuario que ingrese una palabra o frase"
   ]
  },
  {
   "cell_type": "code",
   "execution_count": 14,
   "metadata": {},
   "outputs": [],
   "source": [
    "word_or_phrase = input(\"Ingrese una frase o una palabra\")"
   ]
  },
  {
   "cell_type": "markdown",
   "metadata": {},
   "source": [
    "### Determino si es heterograma o no"
   ]
  },
  {
   "cell_type": "code",
   "execution_count": null,
   "metadata": {},
   "outputs": [],
   "source": [
    "word_or_phrase = word_or_phrase.split()\n",
    "\n",
    "is_heterogram = True\n",
    "\n",
    "if len(word_or_phrase) == 1:\n",
    "    word = \" \".join(word_or_phrase)\n",
    "    word = word.lower()\n",
    "    for letter in word:\n",
    "        cant = word.count(letter)\n",
    "        if cant > 1:\n",
    "            is_heterogram = False\n",
    "            break\n",
    "else:\n",
    "    for word in word_or_phrase:\n",
    "        word = word.lower()\n",
    "    for word in word_or_phrase:\n",
    "        for letter in word:\n",
    "            cant = word.count(letter)\n",
    "            if cant > 1:\n",
    "                is_heterogram = False\n",
    "                break\n",
    "        if not is_heterogram:\n",
    "            break\n",
    "\n",
    "if is_heterogram:\n",
    "    print(\"La palabra o frase es heterograma\")\n",
    "else:\n",
    "    print(\"La palabra o frase no es heterograma\")\n",
    "            "
   ]
  }
 ],
 "metadata": {
  "kernelspec": {
   "display_name": "venv",
   "language": "python",
   "name": "python3"
  },
  "language_info": {
   "codemirror_mode": {
    "name": "ipython",
    "version": 3
   },
   "file_extension": ".py",
   "mimetype": "text/x-python",
   "name": "python",
   "nbconvert_exporter": "python",
   "pygments_lexer": "ipython3",
   "version": "3.11.7"
  }
 },
 "nbformat": 4,
 "nbformat_minor": 2
}

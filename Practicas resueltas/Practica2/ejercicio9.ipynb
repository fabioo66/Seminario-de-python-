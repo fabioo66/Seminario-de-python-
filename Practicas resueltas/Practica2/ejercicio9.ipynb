{
 "cells": [
  {
   "cell_type": "markdown",
   "metadata": {},
   "source": [
    "### Importo el modulo string "
   ]
  },
  {
   "cell_type": "code",
   "execution_count": 13,
   "metadata": {},
   "outputs": [],
   "source": [
    "import string"
   ]
  },
  {
   "cell_type": "markdown",
   "metadata": {},
   "source": [
    "### Le pido al usuario que ingrese una palabra"
   ]
  },
  {
   "cell_type": "code",
   "execution_count": 14,
   "metadata": {},
   "outputs": [],
   "source": [
    "word = input(\"Ingresa una palabra\")"
   ]
  },
  {
   "cell_type": "markdown",
   "metadata": {},
   "source": [
    "### Paso la palabra a minuscula"
   ]
  },
  {
   "cell_type": "code",
   "execution_count": 15,
   "metadata": {},
   "outputs": [],
   "source": [
    "word = word.lower()"
   ]
  },
  {
   "cell_type": "markdown",
   "metadata": {},
   "source": [
    "### Determino su puntaje"
   ]
  },
  {
   "cell_type": "code",
   "execution_count": null,
   "metadata": {},
   "outputs": [],
   "source": [
    "lower_words = string.ascii_lowercase\n",
    "\n",
    "one_point_list = [\"a\", \"e\", \"i\", \"o\", \"u\", \"l\", \"n\", \"r\", \"s\", \"t\"]\n",
    "three_points_list = [\"b\", \"c\", \"m\", \"p\"]\n",
    "four_points_list = [\"f\", \"h\", \"w\", \"v\", \"y\"]\n",
    "\n",
    "total_points = 0\n",
    "\n",
    "for letter in word:\n",
    "    if letter in one_point_list:\n",
    "        total_points += 1\n",
    "    elif letter == \"d\" or letter == \"g\":\n",
    "        total_points += 2\n",
    "    elif letter in three_points_list:\n",
    "        total_points += 3\n",
    "    elif letter in four_points_list:\n",
    "        total_points += 4\n",
    "    elif letter == \"k\":\n",
    "        total_points += 5\n",
    "    elif letter == \"j\" or letter == \"x\":\n",
    "        total_points += 8\n",
    "    else:\n",
    "        total_points += 10\n",
    "\n",
    "print(f\"Palabra: {word}\")\n",
    "print(f\"Puntos: {total_points}\")"
   ]
  }
 ],
 "metadata": {
  "kernelspec": {
   "display_name": "venv",
   "language": "python",
   "name": "python3"
  },
  "language_info": {
   "codemirror_mode": {
    "name": "ipython",
    "version": 3
   },
   "file_extension": ".py",
   "mimetype": "text/x-python",
   "name": "python",
   "nbconvert_exporter": "python",
   "pygments_lexer": "ipython3",
   "version": "3.11.7"
  }
 },
 "nbformat": 4,
 "nbformat_minor": 2
}

{
 "cells": [
  {
   "cell_type": "markdown",
   "metadata": {},
   "source": [
    "### Articulo que vamos a analizar "
   ]
  },
  {
   "cell_type": "code",
   "execution_count": 1,
   "metadata": {},
   "outputs": [],
   "source": [
    "article = \"\"\" título: Experiences in Developing a Distributed Agent-\n",
    "based Modeling Toolkit with Python Version 3\n",
    "resumen: Distributed agent-based modeling (ABM) on high-performance \n",
    "computing resources provides the promise of capturing unprecedented \n",
    "details of large-scale complex systems. However, the specialized \n",
    "knowledge required for developing such ABMs creates barriers to wider \n",
    "adoption and utilization. Here we present our experiences in \n",
    "developing an initial implementation of Repast4Py, a Python-based \n",
    "distributed ABM toolkit. We build on our experiences in developing ABM\n",
    "toolkits, including Repast for High Performance Computing (Repast \n",
    "HPC), to identify the key elements of a useful distributed ABM \n",
    "toolkit. We leverage the Numba, NumPy, and PyTorch packages and the \n",
    "En este ejemplo se debe informar:\n",
    "Python C-API to create a scalable modeling system that can exploit the\n",
    "largest HPC resources and emerging computing architectures. \"\"\""
   ]
  },
  {
   "cell_type": "markdown",
   "metadata": {},
   "source": [
    "### Limpio el texto de caracteres que no necesito"
   ]
  },
  {
   "cell_type": "code",
   "execution_count": 2,
   "metadata": {},
   "outputs": [],
   "source": [
    "clean_text = article.replace('título:', '').replace('\\n', '').replace('1', '').replace('2', '').replace('3', '').replace('4', '').replace('5', '').replace('6', '').replace('7', '').replace('8', '').replace('9', '')"
   ]
  },
  {
   "cell_type": "markdown",
   "metadata": {},
   "source": [
    "### Creo una lista que contiene titulo y resumen en cada posicion"
   ]
  },
  {
   "cell_type": "code",
   "execution_count": 3,
   "metadata": {},
   "outputs": [],
   "source": [
    "word_list = clean_text.split(\"resumen:\")"
   ]
  },
  {
   "cell_type": "markdown",
   "metadata": {},
   "source": [
    "### Creo una lista para titulo y otra para resumen"
   ]
  },
  {
   "cell_type": "code",
   "execution_count": 4,
   "metadata": {},
   "outputs": [],
   "source": [
    "title_list = word_list[0]\n",
    "resume_list = word_list[1]\n",
    "\n",
    "title_list = title_list.split()\n",
    "resume_list = resume_list.split(\".\")\n"
   ]
  },
  {
   "cell_type": "markdown",
   "metadata": {},
   "source": [
    "### Resuelvo el ejercicio"
   ]
  },
  {
   "cell_type": "code",
   "execution_count": null,
   "metadata": {},
   "outputs": [],
   "source": [
    "if len(title_list) > 10:\n",
    "    print(\"titulo : not ok\")\n",
    "else:\n",
    "    print(\"titulo : ok\")\n",
    "\n",
    "easy_to_read = 0\n",
    "acceptable_to_read = 0\n",
    "hard_to_read = 0\n",
    "too_hard_to_read = 0\n",
    "\n",
    "for words in resume_list:\n",
    "    result_words = words.split()\n",
    "    if len(result_words) <= 12:\n",
    "        easy_to_read += 1\n",
    "    elif len(result_words) <= 17:\n",
    "        acceptable_to_read += 1\n",
    "    elif len(result_words) <= 25:\n",
    "        hard_to_read += 1\n",
    "    else:\n",
    "        too_hard_to_read += 1\n",
    "\n",
    "print(f\"Cantidad de oraciones fáciles de leer: {easy_to_read}, aceptables para leer: {acceptable_to_read}, dificil de leer: {hard_to_read}, muy difícil de leer: {too_hard_to_read}\")"
   ]
  }
 ],
 "metadata": {
  "kernelspec": {
   "display_name": "venv",
   "language": "python",
   "name": "python3"
  },
  "language_info": {
   "codemirror_mode": {
    "name": "ipython",
    "version": 3
   },
   "file_extension": ".py",
   "mimetype": "text/x-python",
   "name": "python",
   "nbconvert_exporter": "python",
   "pygments_lexer": "ipython3",
   "version": "3.11.7"
  }
 },
 "nbformat": 4,
 "nbformat_minor": 2
}

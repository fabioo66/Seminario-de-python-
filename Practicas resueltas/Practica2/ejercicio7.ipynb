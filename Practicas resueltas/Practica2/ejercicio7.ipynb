{
 "cells": [
  {
   "cell_type": "markdown",
   "metadata": {},
   "source": [
    "### Importo una frase a la variable text"
   ]
  },
  {
   "cell_type": "code",
   "execution_count": 1,
   "metadata": {},
   "outputs": [],
   "source": [
    "text = \"\"\" La brecha salarial alcanzó el 27,7%: las mujeres ocupadas \n",
    "debieron trabajar 8 días y 10 horas más que los varones ocupados para \n",
    "ganar lo mismo que ellos en un mes. \"\"\""
   ]
  },
  {
   "cell_type": "markdown",
   "metadata": {},
   "source": [
    "### Cuento las mayusculas, minusculas y caracteres no letras"
   ]
  },
  {
   "cell_type": "code",
   "execution_count": null,
   "metadata": {},
   "outputs": [],
   "source": [
    "import string\n",
    "\n",
    "upper_case = 0\n",
    "lower_case = 0\n",
    "not_letters = 0\n",
    "\n",
    "for letter in text:\n",
    "    if letter in string.ascii_uppercase:\n",
    "        upper_case += 1\n",
    "    if letter in string.ascii_lowercase:\n",
    "        lower_case += 1\n",
    "    if letter not in string.ascii_letters:\n",
    "        not_letters += 1\n",
    "\n",
    "print(f\"La cantidad de mayusculas es {upper_case}, la cantidad de minusculas es {lower_case} y la cantidad de caracteres no letras es {not_letters}\")"
   ]
  },
  {
   "cell_type": "markdown",
   "metadata": {},
   "source": [
    "### Me guardo las palabras en una lista para determinar la cantidad de palabras sin distinguir entre mayusculas y minusculas"
   ]
  },
  {
   "cell_type": "code",
   "execution_count": null,
   "metadata": {},
   "outputs": [],
   "source": [
    "list = text.split(\" \")\n",
    "\n",
    "print(f\"La cantidad de palabras sin distinguir entre mayusculas y minusculas es {len(list)}\")\n"
   ]
  }
 ],
 "metadata": {
  "kernelspec": {
   "display_name": "venv",
   "language": "python",
   "name": "python3"
  },
  "language_info": {
   "codemirror_mode": {
    "name": "ipython",
    "version": 3
   },
   "file_extension": ".py",
   "mimetype": "text/x-python",
   "name": "python",
   "nbconvert_exporter": "python",
   "pygments_lexer": "ipython3",
   "version": "3.11.7"
  }
 },
 "nbformat": 4,
 "nbformat_minor": 2
}
